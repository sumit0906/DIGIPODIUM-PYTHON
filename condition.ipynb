{
 "cells": [
  {
   "cell_type": "code",
   "execution_count": 1,
   "metadata": {},
   "outputs": [],
   "source": [
    "a =10\n",
    "b=3\n"
   ]
  },
  {
   "cell_type": "code",
   "execution_count": 2,
   "metadata": {},
   "outputs": [
    {
     "name": "stdout",
     "output_type": "stream",
     "text": [
      "okay\n",
      "i under\n"
     ]
    }
   ],
   "source": [
    "if a>5:\n",
    "    print('okay')\n",
    "    print('i under')"
   ]
  },
  {
   "cell_type": "code",
   "execution_count": 3,
   "metadata": {},
   "outputs": [],
   "source": [
    "if a<5:\n",
    "    print('a is less than 5')\n",
    "    print('awesom')"
   ]
  },
  {
   "cell_type": "code",
   "execution_count": 7,
   "metadata": {},
   "outputs": [
    {
     "name": "stdout",
     "output_type": "stream",
     "text": [
      "the value of A: 35\n"
     ]
    }
   ],
   "source": [
    "a = int(input('enter a number'))\n",
    "if a> 50:\n",
    "    a += 10\n",
    "print(f\"the value of A: {a}\")"
   ]
  },
  {
   "cell_type": "code",
   "execution_count": 8,
   "metadata": {},
   "outputs": [
    {
     "name": "stdout",
     "output_type": "stream",
     "text": [
      "the 35 + 3 =>38\n"
     ]
    }
   ],
   "source": [
    "result = f'the {a} + {b} =>{a+b}'\n",
    "print(result)\n"
   ]
  },
  {
   "cell_type": "code",
   "execution_count": 11,
   "metadata": {},
   "outputs": [
    {
     "name": "stdout",
     "output_type": "stream",
     "text": [
      "bad\n"
     ]
    }
   ],
   "source": [
    "if a<b:\n",
    "    print('nice')\n",
    "else:\n",
    "        print('bad')"
   ]
  },
  {
   "cell_type": "code",
   "execution_count": 14,
   "metadata": {},
   "outputs": [
    {
     "name": "stdout",
     "output_type": "stream",
     "text": [
      "365 is odd\n"
     ]
    }
   ],
   "source": [
    "no = int(input(\"enter a no\"))\n",
    "if no%2== 0:\n",
    "    print(f\"{no} is even\")\n",
    "else:\n",
    "    print(f'{no} is odd')"
   ]
  },
  {
   "cell_type": "code",
   "execution_count": 15,
   "metadata": {},
   "outputs": [
    {
     "name": "stdout",
     "output_type": "stream",
     "text": [
      "543 is not divisible by 5 and 7\n"
     ]
    }
   ],
   "source": [
    "n = int(input(\"enter no\"))\n",
    "if n%5==0 and n%7==0:\n",
    "    print(f'{n} is divisible by 5 and 7')\n",
    "else:\n",
    "    print(f\"{n} is not divisible by 5 and 7\") "
   ]
  }
 ],
 "metadata": {
  "kernelspec": {
   "display_name": "Python 3.9.12 ('base')",
   "language": "python",
   "name": "python3"
  },
  "language_info": {
   "codemirror_mode": {
    "name": "ipython",
    "version": 3
   },
   "file_extension": ".py",
   "mimetype": "text/x-python",
   "name": "python",
   "nbconvert_exporter": "python",
   "pygments_lexer": "ipython3",
   "version": "3.9.12"
  },
  "orig_nbformat": 4,
  "vscode": {
   "interpreter": {
    "hash": "8c5b985504db74717775993205d4c2993119c607f1b7cdf50f252d42fed97197"
   }
  }
 },
 "nbformat": 4,
 "nbformat_minor": 2
}
